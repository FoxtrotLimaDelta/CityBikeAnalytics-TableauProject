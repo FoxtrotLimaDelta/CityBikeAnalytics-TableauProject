{
 "cells": [
  {
   "cell_type": "code",
   "execution_count": 1,
   "metadata": {},
   "outputs": [],
   "source": [
    "#Dependencies\n",
    "import os\n",
    "import glob\n",
    "import pandas as pd\n",
    "os.chdir (r\"C:\\Users\\Denise\\Desktop\\Unit20 Tableau Repo\\CityBikeAnalytics-TableauProject\\NYCBike2months\")"
   ]
  },
  {
   "cell_type": "code",
   "execution_count": 2,
   "metadata": {},
   "outputs": [],
   "source": [
    "extension = 'csv'\n",
    "all_filenames = [i for i in glob.glob('*.{}'.format(extension))]"
   ]
  },
  {
   "cell_type": "code",
   "execution_count": 3,
   "metadata": {
    "scrolled": true
   },
   "outputs": [
    {
     "name": "stdout",
     "output_type": "stream",
     "text": [
      " Volume in drive C has no label.\n",
      " Volume Serial Number is B21C-BB38\n",
      "\n",
      " Directory of C:\\Users\\Denise\\Desktop\\Unit20 Tableau Repo\\CityBikeAnalytics-TableauProject\\NYCBike2months\n",
      "\n",
      "11/03/2020  09:57 AM    <DIR>          .\n",
      "11/03/2020  09:57 AM    <DIR>          ..\n",
      "01/31/2018  04:09 PM       238,119,094 201711-citibike-tripdata.csv\n",
      "01/31/2018  04:06 PM       159,356,525 201712-citibike-tripdata.csv\n",
      "               2 File(s)    397,475,619 bytes\n",
      "               2 Dir(s)  502,129,725,440 bytes free\n"
     ]
    }
   ],
   "source": [
    "ls"
   ]
  },
  {
   "cell_type": "code",
   "execution_count": 15,
   "metadata": {},
   "outputs": [
    {
     "name": "stdout",
     "output_type": "stream",
     "text": [
      "['201711-citibike-tripdata.csv', '201712-citibike-tripdata.csv']\n"
     ]
    }
   ],
   "source": [
    "print (all_filenames)"
   ]
  },
  {
   "cell_type": "code",
   "execution_count": 17,
   "metadata": {
    "scrolled": true
   },
   "outputs": [],
   "source": [
    "#combine all files in the list\n",
    "combined_csv = pd.concat([pd.read_csv(f, error_bad_lines=False) for f in all_filenames ])\n",
    "\n",
    "#export to csv\n",
    "combined_csv.to_csv( \"combined_csv.csv\", index=False, encoding='utf-8-sig')"
   ]
  },
  {
   "cell_type": "code",
   "execution_count": null,
   "metadata": {},
   "outputs": [],
   "source": []
  },
  {
   "cell_type": "code",
   "execution_count": null,
   "metadata": {},
   "outputs": [],
   "source": []
  },
  {
   "cell_type": "code",
   "execution_count": null,
   "metadata": {},
   "outputs": [],
   "source": []
  }
 ],
 "metadata": {
  "kernelspec": {
   "display_name": "Python 3",
   "language": "python",
   "name": "python3"
  },
  "language_info": {
   "codemirror_mode": {
    "name": "ipython",
    "version": 3
   },
   "file_extension": ".py",
   "mimetype": "text/x-python",
   "name": "python",
   "nbconvert_exporter": "python",
   "pygments_lexer": "ipython3",
   "version": "3.8.3"
  }
 },
 "nbformat": 4,
 "nbformat_minor": 4
}
